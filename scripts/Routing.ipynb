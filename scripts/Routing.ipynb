{
 "cells": [
  {
   "cell_type": "code",
   "execution_count": 27,
   "metadata": {},
   "outputs": [
    {
     "name": "stdout",
     "output_type": "stream",
     "text": [
      "Populating the interactive namespace from numpy and matplotlib\n"
     ]
    },
    {
     "name": "stderr",
     "output_type": "stream",
     "text": [
      "C:\\Users\\chris\\Anaconda2\\envs\\tensorflow\\lib\\site-packages\\IPython\\core\\magics\\pylab.py:160: UserWarning: pylab import has clobbered these variables: ['dist', 'random']\n",
      "`%matplotlib` prevents importing * from pylab and numpy\n",
      "  \"\\n`%matplotlib` prevents importing * from pylab and numpy\"\n"
     ]
    }
   ],
   "source": [
    "%pylab inline\n",
    "import networkx as nx\n",
    "import pandas as pd\n",
    "import random\n",
    "from flask import jsonify\n",
    "import json\n",
    "from tqdm import tqdm\n",
    "import pickle"
   ]
  },
  {
   "cell_type": "code",
   "execution_count": 6,
   "metadata": {},
   "outputs": [],
   "source": [
    "treesR=pd.read_json(\"scrape/data.json\")"
   ]
  },
  {
   "cell_type": "code",
   "execution_count": 7,
   "metadata": {},
   "outputs": [
    {
     "data": {
      "text/html": [
       "<div>\n",
       "<style scoped>\n",
       "    .dataframe tbody tr th:only-of-type {\n",
       "        vertical-align: middle;\n",
       "    }\n",
       "\n",
       "    .dataframe tbody tr th {\n",
       "        vertical-align: top;\n",
       "    }\n",
       "\n",
       "    .dataframe thead th {\n",
       "        text-align: right;\n",
       "    }\n",
       "</style>\n",
       "<table border=\"1\" class=\"dataframe\">\n",
       "  <thead>\n",
       "    <tr style=\"text-align: right;\">\n",
       "      <th></th>\n",
       "      <th>geometry</th>\n",
       "      <th>id</th>\n",
       "      <th>properties</th>\n",
       "      <th>type</th>\n",
       "    </tr>\n",
       "  </thead>\n",
       "  <tbody>\n",
       "    <tr>\n",
       "      <th>0</th>\n",
       "      <td>{'coordinates': [13.35941149127144, 52.4918145...</td>\n",
       "      <td>97628</td>\n",
       "      <td>{'species': 'Ulmus minor', 'created': '2018-11...</td>\n",
       "      <td>Feature</td>\n",
       "    </tr>\n",
       "    <tr>\n",
       "      <th>1</th>\n",
       "      <td>{'coordinates': [13.386516547958214, 52.504274...</td>\n",
       "      <td>98420</td>\n",
       "      <td>{'species': 'Acer platanoides', 'created': '20...</td>\n",
       "      <td>Feature</td>\n",
       "    </tr>\n",
       "    <tr>\n",
       "      <th>2</th>\n",
       "      <td>{'coordinates': [13.386437701551193, 52.504344...</td>\n",
       "      <td>98421</td>\n",
       "      <td>{'species': 'Betula spec.', 'created': '2018-1...</td>\n",
       "      <td>Feature</td>\n",
       "    </tr>\n",
       "    <tr>\n",
       "      <th>3</th>\n",
       "      <td>{'coordinates': [13.386546177518802, 52.504366...</td>\n",
       "      <td>98422</td>\n",
       "      <td>{'species': 'Sorbus aucuparia', 'created': '20...</td>\n",
       "      <td>Feature</td>\n",
       "    </tr>\n",
       "    <tr>\n",
       "      <th>4</th>\n",
       "      <td>{'coordinates': [13.386542677646764, 52.504134...</td>\n",
       "      <td>98423</td>\n",
       "      <td>{'species': 'Betula spec.', 'created': '2018-1...</td>\n",
       "      <td>Feature</td>\n",
       "    </tr>\n",
       "  </tbody>\n",
       "</table>\n",
       "</div>"
      ],
      "text/plain": [
       "                                            geometry     id  \\\n",
       "0  {'coordinates': [13.35941149127144, 52.4918145...  97628   \n",
       "1  {'coordinates': [13.386516547958214, 52.504274...  98420   \n",
       "2  {'coordinates': [13.386437701551193, 52.504344...  98421   \n",
       "3  {'coordinates': [13.386546177518802, 52.504366...  98422   \n",
       "4  {'coordinates': [13.386542677646764, 52.504134...  98423   \n",
       "\n",
       "                                          properties     type  \n",
       "0  {'species': 'Ulmus minor', 'created': '2018-11...  Feature  \n",
       "1  {'species': 'Acer platanoides', 'created': '20...  Feature  \n",
       "2  {'species': 'Betula spec.', 'created': '2018-1...  Feature  \n",
       "3  {'species': 'Sorbus aucuparia', 'created': '20...  Feature  \n",
       "4  {'species': 'Betula spec.', 'created': '2018-1...  Feature  "
      ]
     },
     "execution_count": 7,
     "metadata": {},
     "output_type": "execute_result"
    }
   ],
   "source": [
    "treesR.head()"
   ]
  },
  {
   "cell_type": "code",
   "execution_count": 8,
   "metadata": {},
   "outputs": [],
   "source": [
    "co=[t['coordinates'] for t in treesR.geometry]\n",
    "x,y=transpose(co)\n",
    "id=treesR.id"
   ]
  },
  {
   "cell_type": "code",
   "execution_count": 9,
   "metadata": {},
   "outputs": [
    {
     "data": {
      "text/plain": [
       "6312"
      ]
     },
     "execution_count": 9,
     "metadata": {},
     "output_type": "execute_result"
    }
   ],
   "source": [
    "len(x)"
   ]
  },
  {
   "cell_type": "code",
   "execution_count": 35,
   "metadata": {},
   "outputs": [
    {
     "data": {
      "text/html": [
       "<div>\n",
       "<style scoped>\n",
       "    .dataframe tbody tr th:only-of-type {\n",
       "        vertical-align: middle;\n",
       "    }\n",
       "\n",
       "    .dataframe tbody tr th {\n",
       "        vertical-align: top;\n",
       "    }\n",
       "\n",
       "    .dataframe thead th {\n",
       "        text-align: right;\n",
       "    }\n",
       "</style>\n",
       "<table border=\"1\" class=\"dataframe\">\n",
       "  <thead>\n",
       "    <tr style=\"text-align: right;\">\n",
       "      <th></th>\n",
       "      <th>id</th>\n",
       "      <th>x</th>\n",
       "      <th>y</th>\n",
       "    </tr>\n",
       "  </thead>\n",
       "  <tbody>\n",
       "    <tr>\n",
       "      <th>495</th>\n",
       "      <td>222639</td>\n",
       "      <td>13.406854</td>\n",
       "      <td>52.492658</td>\n",
       "    </tr>\n",
       "    <tr>\n",
       "      <th>496</th>\n",
       "      <td>222640</td>\n",
       "      <td>13.406871</td>\n",
       "      <td>52.492636</td>\n",
       "    </tr>\n",
       "    <tr>\n",
       "      <th>497</th>\n",
       "      <td>222641</td>\n",
       "      <td>13.406821</td>\n",
       "      <td>52.492607</td>\n",
       "    </tr>\n",
       "    <tr>\n",
       "      <th>498</th>\n",
       "      <td>222790</td>\n",
       "      <td>13.381131</td>\n",
       "      <td>52.502455</td>\n",
       "    </tr>\n",
       "    <tr>\n",
       "      <th>499</th>\n",
       "      <td>222791</td>\n",
       "      <td>13.380800</td>\n",
       "      <td>52.502428</td>\n",
       "    </tr>\n",
       "  </tbody>\n",
       "</table>\n",
       "</div>"
      ],
      "text/plain": [
       "         id          x          y\n",
       "495  222639  13.406854  52.492658\n",
       "496  222640  13.406871  52.492636\n",
       "497  222641  13.406821  52.492607\n",
       "498  222790  13.381131  52.502455\n",
       "499  222791  13.380800  52.502428"
      ]
     },
     "execution_count": 35,
     "metadata": {},
     "output_type": "execute_result"
    }
   ],
   "source": [
    "\n",
    "trees=pd.DataFrame({'id':id,'x':x,'y':y})[:500]\n",
    "trees.tail()"
   ]
  },
  {
   "cell_type": "code",
   "execution_count": 36,
   "metadata": {},
   "outputs": [],
   "source": [
    "import scipy.spatial.distance"
   ]
  },
  {
   "cell_type": "code",
   "execution_count": 31,
   "metadata": {},
   "outputs": [
    {
     "data": {
      "text/plain": [
       "array([2.44948974])"
      ]
     },
     "execution_count": 31,
     "metadata": {},
     "output_type": "execute_result"
    }
   ],
   "source": [
    "scipy.spatial.distance.pdist([[0,0,1],[1,1,3]],'euclidean')"
   ]
  },
  {
   "cell_type": "code",
   "execution_count": 37,
   "metadata": {},
   "outputs": [
    {
     "name": "stderr",
     "output_type": "stream",
     "text": [
      "100%|████████████████████████████████████████████████████████████████████████████████| 500/500 [00:13<00:00, 38.19it/s]\n"
     ]
    }
   ],
   "source": [
    "G=nx.Graph()\n",
    "for _,(i1,x1,y1) in tqdm(trees.iterrows(),total=len(trees)):\n",
    "    for _,(i2,x2,y2) in trees.iterrows():\n",
    "        if i1 < i2:\n",
    "            dist = (x1-x2)**2+(y1-y2)**2\n",
    "            #print(dist)\n",
    "            if dist<0.0008:\n",
    "                G.add_edge(i1, i2,weight=dist)"
   ]
  },
  {
   "cell_type": "code",
   "execution_count": 34,
   "metadata": {},
   "outputs": [
    {
     "data": {
      "text/html": [
       "<div>\n",
       "<style scoped>\n",
       "    .dataframe tbody tr th:only-of-type {\n",
       "        vertical-align: middle;\n",
       "    }\n",
       "\n",
       "    .dataframe tbody tr th {\n",
       "        vertical-align: top;\n",
       "    }\n",
       "\n",
       "    .dataframe thead th {\n",
       "        text-align: right;\n",
       "    }\n",
       "</style>\n",
       "<table border=\"1\" class=\"dataframe\">\n",
       "  <thead>\n",
       "    <tr style=\"text-align: right;\">\n",
       "      <th></th>\n",
       "      <th>id</th>\n",
       "      <th>x</th>\n",
       "      <th>y</th>\n",
       "    </tr>\n",
       "  </thead>\n",
       "  <tbody>\n",
       "    <tr>\n",
       "      <th>495</th>\n",
       "      <td>222639</td>\n",
       "      <td>13.406854</td>\n",
       "      <td>52.492658</td>\n",
       "    </tr>\n",
       "    <tr>\n",
       "      <th>496</th>\n",
       "      <td>222640</td>\n",
       "      <td>13.406871</td>\n",
       "      <td>52.492636</td>\n",
       "    </tr>\n",
       "    <tr>\n",
       "      <th>497</th>\n",
       "      <td>222641</td>\n",
       "      <td>13.406821</td>\n",
       "      <td>52.492607</td>\n",
       "    </tr>\n",
       "    <tr>\n",
       "      <th>498</th>\n",
       "      <td>222790</td>\n",
       "      <td>13.381131</td>\n",
       "      <td>52.502455</td>\n",
       "    </tr>\n",
       "    <tr>\n",
       "      <th>499</th>\n",
       "      <td>222791</td>\n",
       "      <td>13.380800</td>\n",
       "      <td>52.502428</td>\n",
       "    </tr>\n",
       "  </tbody>\n",
       "</table>\n",
       "</div>"
      ],
      "text/plain": [
       "         id          x          y\n",
       "495  222639  13.406854  52.492658\n",
       "496  222640  13.406871  52.492636\n",
       "497  222641  13.406821  52.492607\n",
       "498  222790  13.381131  52.502455\n",
       "499  222791  13.380800  52.502428"
      ]
     },
     "execution_count": 34,
     "metadata": {},
     "output_type": "execute_result"
    }
   ],
   "source": [
    "trees.tail()"
   ]
  },
  {
   "cell_type": "code",
   "execution_count": 38,
   "metadata": {},
   "outputs": [],
   "source": [
    "routing_data=[G,trees]"
   ]
  },
  {
   "cell_type": "code",
   "execution_count": 39,
   "metadata": {},
   "outputs": [],
   "source": [
    "pickle.dump(routing_data,open( \"../routing_data.pickle\", \"wb\" ))"
   ]
  },
  {
   "cell_type": "code",
   "execution_count": 43,
   "metadata": {},
   "outputs": [],
   "source": [
    "[G,trees]=pickle.load(open( \"../routing_data.pickle\", \"rb\" ))"
   ]
  },
  {
   "cell_type": "code",
   "execution_count": 44,
   "metadata": {},
   "outputs": [
    {
     "name": "stdout",
     "output_type": "stream",
     "text": [
      "[(97628, 13.35941149127144, 52.49181452951205), (96600.0, 13.359347980185852, 52.491979531917586), (116378.0, 13.359392872978475, 52.49205492047499), (118860.0, 13.359332137482363, 52.49216093892442), (96599.0, 13.359279086366195, 52.49223684644748), (118861.0, 13.359438234706628, 52.49246845486399), (116418.0, 13.359471605660442, 52.49260052567308), (116644.0, 13.359652851210909, 52.49272675369397), (117455.0, 13.359710369141462, 52.49274411923733), (95756.0, 13.359741638736846, 52.49268538112782), (116101.0, 13.359753748166723, 52.492568389799644), (119970.0, 13.35993990336516, 52.49255010859922), (116691.0, 13.36019303052591, 52.49251671795094), (119971.0, 13.360344497066304, 52.49256186708179), (116128.0, 13.360482873006763, 52.492579774816996), (222400.0, 13.37723605704918, 52.48916215056674), (221115.0, 13.37773065819272, 52.48909314187421), (220983.0, 13.37897645956575, 52.489316027129114), (221114.0, 13.379441679493215, 52.48927698341977), (220982.0, 13.380654515181993, 52.489036999636916), (221113.0, 13.381653056339525, 52.48866091687684), (220981.0, 13.382211752848415, 52.48882273528065), (221112.0, 13.382466235387884, 52.48869952393942), (221655.0, 13.382651406348565, 52.48868583308811), (221784.0, 13.382693431181057, 52.4882185819027), (221785.0, 13.382709497611149, 52.488143181631), (221607.0, 13.382967569521647, 52.48786487808584), (221623.0, 13.383150355455918, 52.48790631447433), (221622.0, 13.383297993056345, 52.487770767970375), (221810.0, 13.383422814632427, 52.48783741768561), (220985.0, 13.383580443343428, 52.487785169959096), (221628.0, 13.383658247062339, 52.48774480913479), (221629.0, 13.383831562885238, 52.488016793374136), (221642.0, 13.384248745977336, 52.48830934452144), (222402.0, 13.384668948421343, 52.4891657637819), (222795.0, 13.388515918476413, 52.490865143538514), (222796.0, 13.388714787886947, 52.49083508969178), (222797.0, 13.388747497483257, 52.4908309542376), (221059.0, 13.389003660552916, 52.49083998963303), (222571.0, 13.397832333420467, 52.48979294523836), (223023.0, 13.39945719194394, 52.49088768910835), (223022.0, 13.399798185364906, 52.490805027289625), (222801.0, 13.400313864091105, 52.49076799744073), (222800.0, 13.40046474612669, 52.4910253959683), (222799.0, 13.400679925097952, 52.49105453683248), (222798.0, 13.400701452947203, 52.4912259610502), (222572.0, 13.40293155421458, 52.49336916625012), (222573.0, 13.403201455003751, 52.49341921002464), (222634.0, 13.406644346144175, 52.492821364368695), (222638.0, 13.406853016724847, 52.49270534745225), (222639.0, 13.406854140751145, 52.49265811345995), (222640.0, 13.40687067225099, 52.49263582866861)]\n"
     ]
    },
    {
     "data": {
      "image/png": "[encoded data removed]",
      "text/plain": [
       "<Figure size 432x288 with 1 Axes>"
      ]
     },
     "metadata": {},
     "output_type": "display_data"
    }
   ],
   "source": [
    "def getPath(start_id,end_id):\n",
    "    p= nx.algorithms.shortest_paths.weighted.dijkstra_path(G,start_id,end_id)\n",
    "    return [(i,x[trees[trees.id==i].index][0],y[trees[trees.id==i].index][0]) for i in p]  \n",
    "\n",
    "path=getPath(97628,222640)\n",
    "print(path)\n",
    "scatter(x,y)\n",
    "for [i1,x1,y1],[i2,x2,y2] in zip(path[:-1],path[1:]):\n",
    "    plot([x1,x2],[y1,y2])\n",
    "    "
   ]
  },
  {
   "cell_type": "code",
   "execution_count": null,
   "metadata": {},
   "outputs": [],
   "source": []
  },
  {
   "cell_type": "code",
   "execution_count": null,
   "metadata": {},
   "outputs": [],
   "source": []
  }
 ],
 "metadata": {
  "kernelspec": {
   "display_name": "tensorflow",
   "language": "python",
   "name": "tensorflow"
  },
  "language_info": {
   "codemirror_mode": {
    "name": "ipython",
    "version": 3
   },
   "file_extension": ".py",
   "mimetype": "text/x-python",
   "name": "python",
   "nbconvert_exporter": "python",
   "pygments_lexer": "ipython3",
   "version": "3.5.4"
  }
 },
 "nbformat": 4,
 "nbformat_minor": 2
}
