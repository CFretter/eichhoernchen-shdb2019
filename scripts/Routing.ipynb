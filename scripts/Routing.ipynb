{
 "cells": [
  {
   "cell_type": "code",
   "execution_count": 1,
   "metadata": {},
   "outputs": [
    {
     "name": "stdout",
     "output_type": "stream",
     "text": [
      "Populating the interactive namespace from numpy and matplotlib\n"
     ]
    }
   ],
   "source": [
    "%pylab inline\n",
    "import networkx as nx\n",
    "import pandas as pd\n",
    "import random\n",
    "from flask import jsonify\n",
    "import json\n",
    "from tqdm import tqdm\n",
    "import pickle"
   ]
  },
  {
   "cell_type": "code",
   "execution_count": 2,
   "metadata": {},
   "outputs": [],
   "source": [
    "treesR=pd.read_json(\"scrape/1km.json\")"
   ]
  },
  {
   "cell_type": "code",
   "execution_count": 3,
   "metadata": {},
   "outputs": [
    {
     "data": {
      "text/html": [
       "<div>\n",
       "<style scoped>\n",
       "    .dataframe tbody tr th:only-of-type {\n",
       "        vertical-align: middle;\n",
       "    }\n",
       "\n",
       "    .dataframe tbody tr th {\n",
       "        vertical-align: top;\n",
       "    }\n",
       "\n",
       "    .dataframe thead th {\n",
       "        text-align: right;\n",
       "    }\n",
       "</style>\n",
       "<table border=\"1\" class=\"dataframe\">\n",
       "  <thead>\n",
       "    <tr style=\"text-align: right;\">\n",
       "      <th></th>\n",
       "      <th>geometry</th>\n",
       "      <th>id</th>\n",
       "      <th>properties</th>\n",
       "      <th>type</th>\n",
       "    </tr>\n",
       "  </thead>\n",
       "  <tbody>\n",
       "    <tr>\n",
       "      <th>0</th>\n",
       "      <td>{'type': 'Point', 'coordinates': [13.421149160...</td>\n",
       "      <td>221071</td>\n",
       "      <td>{'borough': 'Friedrichshain-Kreuzberg', 'circu...</td>\n",
       "      <td>Feature</td>\n",
       "    </tr>\n",
       "    <tr>\n",
       "      <th>1</th>\n",
       "      <td>{'type': 'Point', 'coordinates': [13.435584960...</td>\n",
       "      <td>221104</td>\n",
       "      <td>{'borough': 'Friedrichshain-Kreuzberg', 'circu...</td>\n",
       "      <td>Feature</td>\n",
       "    </tr>\n",
       "    <tr>\n",
       "      <th>2</th>\n",
       "      <td>{'type': 'Point', 'coordinates': [13.435080069...</td>\n",
       "      <td>221105</td>\n",
       "      <td>{'borough': 'Friedrichshain-Kreuzberg', 'circu...</td>\n",
       "      <td>Feature</td>\n",
       "    </tr>\n",
       "    <tr>\n",
       "      <th>3</th>\n",
       "      <td>{'type': 'Point', 'coordinates': [13.435223027...</td>\n",
       "      <td>221106</td>\n",
       "      <td>{'borough': 'Friedrichshain-Kreuzberg', 'circu...</td>\n",
       "      <td>Feature</td>\n",
       "    </tr>\n",
       "    <tr>\n",
       "      <th>4</th>\n",
       "      <td>{'type': 'Point', 'coordinates': [13.424398429...</td>\n",
       "      <td>222395</td>\n",
       "      <td>{'borough': 'Friedrichshain-Kreuzberg', 'circu...</td>\n",
       "      <td>Feature</td>\n",
       "    </tr>\n",
       "  </tbody>\n",
       "</table>\n",
       "</div>"
      ],
      "text/plain": [
       "                                            geometry      id  \\\n",
       "0  {'type': 'Point', 'coordinates': [13.421149160...  221071   \n",
       "1  {'type': 'Point', 'coordinates': [13.435584960...  221104   \n",
       "2  {'type': 'Point', 'coordinates': [13.435080069...  221105   \n",
       "3  {'type': 'Point', 'coordinates': [13.435223027...  221106   \n",
       "4  {'type': 'Point', 'coordinates': [13.424398429...  222395   \n",
       "\n",
       "                                          properties     type  \n",
       "0  {'borough': 'Friedrichshain-Kreuzberg', 'circu...  Feature  \n",
       "1  {'borough': 'Friedrichshain-Kreuzberg', 'circu...  Feature  \n",
       "2  {'borough': 'Friedrichshain-Kreuzberg', 'circu...  Feature  \n",
       "3  {'borough': 'Friedrichshain-Kreuzberg', 'circu...  Feature  \n",
       "4  {'borough': 'Friedrichshain-Kreuzberg', 'circu...  Feature  "
      ]
     },
     "execution_count": 3,
     "metadata": {},
     "output_type": "execute_result"
    }
   ],
   "source": [
    "treesR.head()"
   ]
  },
  {
   "cell_type": "code",
   "execution_count": 4,
   "metadata": {},
   "outputs": [],
   "source": [
    "co=[t['coordinates'] for t in treesR.geometry]\n",
    "x,y=transpose(co)\n",
    "id=treesR.id"
   ]
  },
  {
   "cell_type": "code",
   "execution_count": 5,
   "metadata": {},
   "outputs": [
    {
     "data": {
      "text/plain": [
       "3253"
      ]
     },
     "execution_count": 5,
     "metadata": {},
     "output_type": "execute_result"
    }
   ],
   "source": [
    "len(x)"
   ]
  },
  {
   "cell_type": "code",
   "execution_count": 6,
   "metadata": {},
   "outputs": [
    {
     "data": {
      "text/html": [
       "<div>\n",
       "<style scoped>\n",
       "    .dataframe tbody tr th:only-of-type {\n",
       "        vertical-align: middle;\n",
       "    }\n",
       "\n",
       "    .dataframe tbody tr th {\n",
       "        vertical-align: top;\n",
       "    }\n",
       "\n",
       "    .dataframe thead th {\n",
       "        text-align: right;\n",
       "    }\n",
       "</style>\n",
       "<table border=\"1\" class=\"dataframe\">\n",
       "  <thead>\n",
       "    <tr style=\"text-align: right;\">\n",
       "      <th></th>\n",
       "      <th>id</th>\n",
       "      <th>x</th>\n",
       "      <th>y</th>\n",
       "    </tr>\n",
       "  </thead>\n",
       "  <tbody>\n",
       "    <tr>\n",
       "      <th>3248</th>\n",
       "      <td>260052</td>\n",
       "      <td>13.423880</td>\n",
       "      <td>52.499481</td>\n",
       "    </tr>\n",
       "    <tr>\n",
       "      <th>3249</th>\n",
       "      <td>260053</td>\n",
       "      <td>13.423701</td>\n",
       "      <td>52.499575</td>\n",
       "    </tr>\n",
       "    <tr>\n",
       "      <th>3250</th>\n",
       "      <td>260054</td>\n",
       "      <td>13.423584</td>\n",
       "      <td>52.499429</td>\n",
       "    </tr>\n",
       "    <tr>\n",
       "      <th>3251</th>\n",
       "      <td>260055</td>\n",
       "      <td>13.423068</td>\n",
       "      <td>52.499390</td>\n",
       "    </tr>\n",
       "    <tr>\n",
       "      <th>3252</th>\n",
       "      <td>260056</td>\n",
       "      <td>13.423329</td>\n",
       "      <td>52.499633</td>\n",
       "    </tr>\n",
       "  </tbody>\n",
       "</table>\n",
       "</div>"
      ],
      "text/plain": [
       "          id          x          y\n",
       "3248  260052  13.423880  52.499481\n",
       "3249  260053  13.423701  52.499575\n",
       "3250  260054  13.423584  52.499429\n",
       "3251  260055  13.423068  52.499390\n",
       "3252  260056  13.423329  52.499633"
      ]
     },
     "execution_count": 6,
     "metadata": {},
     "output_type": "execute_result"
    }
   ],
   "source": [
    "trees=pd.DataFrame({'id':id,'x':x,'y':y})\n",
    "trees.tail()"
   ]
  },
  {
   "cell_type": "code",
   "execution_count": 7,
   "metadata": {},
   "outputs": [],
   "source": [
    "from scipy.spatial.distance import pdist, squareform\n"
   ]
  },
  {
   "cell_type": "code",
   "execution_count": 8,
   "metadata": {},
   "outputs": [],
   "source": [
    "po= [[x1,y1] for _,(i1,x1,y1)in trees.iterrows()]\n"
   ]
  },
  {
   "cell_type": "code",
   "execution_count": 9,
   "metadata": {},
   "outputs": [
    {
     "data": {
      "text/plain": [
       "(3253, 3253)"
      ]
     },
     "execution_count": 9,
     "metadata": {},
     "output_type": "execute_result"
    }
   ],
   "source": [
    "di=pdist(po,'euclidean')\n",
    "di=squareform(di)\n",
    "shape(di)"
   ]
  },
  {
   "cell_type": "code",
   "execution_count": 10,
   "metadata": {},
   "outputs": [
    {
     "name": "stderr",
     "output_type": "stream",
     "text": [
      "100%|██████████████████████████████████████████████████████████████████████████████| 3253/3253 [08:59<00:00,  6.34it/s]\n"
     ]
    }
   ],
   "source": [
    "G=nx.Graph()\n",
    "for i1,(id1,x1,y1) in tqdm(trees.iterrows(),total=len(trees)):\n",
    "    for i2,(id2,x2,y2) in trees.iterrows():\n",
    "        if i1 < i2:\n",
    "            dist = di[i1][i2]#(x1-x2)**2+(y1-y2)**2\n",
    "           # print(dist)\n",
    "            if dist<0.004:\n",
    "                G.add_edge(int(id1), int(id2),weight=dist**2)"
   ]
  },
  {
   "cell_type": "code",
   "execution_count": 11,
   "metadata": {},
   "outputs": [
    {
     "name": "stdout",
     "output_type": "stream",
     "text": [
      "3253\n"
     ]
    }
   ],
   "source": [
    "for s in nx.components.connected.connected_components(G):\n",
    "    print(len(s))"
   ]
  },
  {
   "cell_type": "code",
   "execution_count": 12,
   "metadata": {},
   "outputs": [
    {
     "data": {
      "text/html": [
       "<div>\n",
       "<style scoped>\n",
       "    .dataframe tbody tr th:only-of-type {\n",
       "        vertical-align: middle;\n",
       "    }\n",
       "\n",
       "    .dataframe tbody tr th {\n",
       "        vertical-align: top;\n",
       "    }\n",
       "\n",
       "    .dataframe thead th {\n",
       "        text-align: right;\n",
       "    }\n",
       "</style>\n",
       "<table border=\"1\" class=\"dataframe\">\n",
       "  <thead>\n",
       "    <tr style=\"text-align: right;\">\n",
       "      <th></th>\n",
       "      <th>id</th>\n",
       "      <th>x</th>\n",
       "      <th>y</th>\n",
       "    </tr>\n",
       "  </thead>\n",
       "  <tbody>\n",
       "    <tr>\n",
       "      <th>0</th>\n",
       "      <td>221071</td>\n",
       "      <td>13.421149</td>\n",
       "      <td>52.505113</td>\n",
       "    </tr>\n",
       "    <tr>\n",
       "      <th>1</th>\n",
       "      <td>221104</td>\n",
       "      <td>13.435585</td>\n",
       "      <td>52.499304</td>\n",
       "    </tr>\n",
       "    <tr>\n",
       "      <th>2</th>\n",
       "      <td>221105</td>\n",
       "      <td>13.435080</td>\n",
       "      <td>52.499199</td>\n",
       "    </tr>\n",
       "    <tr>\n",
       "      <th>3</th>\n",
       "      <td>221106</td>\n",
       "      <td>13.435223</td>\n",
       "      <td>52.499129</td>\n",
       "    </tr>\n",
       "    <tr>\n",
       "      <th>4</th>\n",
       "      <td>222395</td>\n",
       "      <td>13.424398</td>\n",
       "      <td>52.504431</td>\n",
       "    </tr>\n",
       "  </tbody>\n",
       "</table>\n",
       "</div>"
      ],
      "text/plain": [
       "       id          x          y\n",
       "0  221071  13.421149  52.505113\n",
       "1  221104  13.435585  52.499304\n",
       "2  221105  13.435080  52.499199\n",
       "3  221106  13.435223  52.499129\n",
       "4  222395  13.424398  52.504431"
      ]
     },
     "execution_count": 12,
     "metadata": {},
     "output_type": "execute_result"
    }
   ],
   "source": [
    "trees.head()\n"
   ]
  },
  {
   "cell_type": "code",
   "execution_count": 13,
   "metadata": {},
   "outputs": [
    {
     "data": {
      "text/html": [
       "<div>\n",
       "<style scoped>\n",
       "    .dataframe tbody tr th:only-of-type {\n",
       "        vertical-align: middle;\n",
       "    }\n",
       "\n",
       "    .dataframe tbody tr th {\n",
       "        vertical-align: top;\n",
       "    }\n",
       "\n",
       "    .dataframe thead th {\n",
       "        text-align: right;\n",
       "    }\n",
       "</style>\n",
       "<table border=\"1\" class=\"dataframe\">\n",
       "  <thead>\n",
       "    <tr style=\"text-align: right;\">\n",
       "      <th></th>\n",
       "      <th>id</th>\n",
       "      <th>x</th>\n",
       "      <th>y</th>\n",
       "    </tr>\n",
       "  </thead>\n",
       "  <tbody>\n",
       "    <tr>\n",
       "      <th>3248</th>\n",
       "      <td>260052</td>\n",
       "      <td>13.423880</td>\n",
       "      <td>52.499481</td>\n",
       "    </tr>\n",
       "    <tr>\n",
       "      <th>3249</th>\n",
       "      <td>260053</td>\n",
       "      <td>13.423701</td>\n",
       "      <td>52.499575</td>\n",
       "    </tr>\n",
       "    <tr>\n",
       "      <th>3250</th>\n",
       "      <td>260054</td>\n",
       "      <td>13.423584</td>\n",
       "      <td>52.499429</td>\n",
       "    </tr>\n",
       "    <tr>\n",
       "      <th>3251</th>\n",
       "      <td>260055</td>\n",
       "      <td>13.423068</td>\n",
       "      <td>52.499390</td>\n",
       "    </tr>\n",
       "    <tr>\n",
       "      <th>3252</th>\n",
       "      <td>260056</td>\n",
       "      <td>13.423329</td>\n",
       "      <td>52.499633</td>\n",
       "    </tr>\n",
       "  </tbody>\n",
       "</table>\n",
       "</div>"
      ],
      "text/plain": [
       "          id          x          y\n",
       "3248  260052  13.423880  52.499481\n",
       "3249  260053  13.423701  52.499575\n",
       "3250  260054  13.423584  52.499429\n",
       "3251  260055  13.423068  52.499390\n",
       "3252  260056  13.423329  52.499633"
      ]
     },
     "execution_count": 13,
     "metadata": {},
     "output_type": "execute_result"
    }
   ],
   "source": [
    "trees.tail()\n"
   ]
  },
  {
   "cell_type": "code",
   "execution_count": 23,
   "metadata": {},
   "outputs": [
    {
     "data": {
      "text/plain": [
       "231701"
      ]
     },
     "execution_count": 23,
     "metadata": {},
     "output_type": "execute_result"
    }
   ],
   "source": [
    "trees.id[500]"
   ]
  },
  {
   "cell_type": "code",
   "execution_count": 14,
   "metadata": {},
   "outputs": [],
   "source": [
    "routing_data=[G,trees,x,y]"
   ]
  },
  {
   "cell_type": "code",
   "execution_count": 15,
   "metadata": {},
   "outputs": [],
   "source": [
    "pickle.dump(routing_data,open( \"../routing_data.pickle\", \"wb\" ))"
   ]
  },
  {
   "cell_type": "code",
   "execution_count": 16,
   "metadata": {},
   "outputs": [],
   "source": [
    "[G,trees,x,y]=pickle.load(open( \"../routing_data.pickle\", \"rb\" ))"
   ]
  },
  {
   "cell_type": "code",
   "execution_count": 24,
   "metadata": {},
   "outputs": [
    {
     "name": "stdout",
     "output_type": "stream",
     "text": [
      "[(231701, 13.437522431384329, 52.49600672542812), (249813, 13.437529098992414, 52.49606675869095), (233140, 13.437520748550888, 52.4960760449626), (223086, 13.437492984688168, 52.496090372365714), (249569, 13.43750946439672, 52.496123368731226), (223085, 13.437499743122396, 52.4961292706431), (231699, 13.437474770784524, 52.49613852978646), (241608, 13.437442931886638, 52.49613425210014), (231883, 13.437361155171685, 52.496146802420604), (249568, 13.437313619089501, 52.49615779816954), (223084, 13.437304857804527, 52.496179998255016), (241606, 13.437297806246708, 52.49620749058472), (231880, 13.437252647240653, 52.49622963335741), (233139, 13.437152126794654, 52.49622841428049), (249567, 13.437119255716599, 52.496214609429906), (231879, 13.437095777689333, 52.496188292622975), (241605, 13.437066373170124, 52.49615587260561), (233307, 13.437049410713186, 52.49613221870477), (255266, 13.436957117372623, 52.49605874538983), (249811, 13.436864538376335, 52.49614712801672), (241604, 13.436788972581843, 52.496240069966746), (249566, 13.436743443547805, 52.4963395388783), (255265, 13.436720672863295, 52.49644523810751), (231694, 13.43672767982993, 52.49655356599198), (241602, 13.436607731690925, 52.4966564247111), (261708, 13.436581110160422, 52.49672162403657), (233129, 13.436590553076654, 52.496746164951055), (249619, 13.436560944115863, 52.496770997186346), (255521, 13.436547319305289, 52.49683028131013), (261698, 13.436492203257902, 52.49694573540664), (253283, 13.436450339158993, 52.496987583073626), (233118, 13.436362728204639, 52.49698776392606), (260711, 13.436309881089441, 52.497036099986374), (222847, 13.43623752948354, 52.49703178550398), (223063, 13.436109276405922, 52.49707377955015), (260712, 13.436025087007144, 52.49712718751016), (233117, 13.435988319978792, 52.49711692726974), (233116, 13.435857816429124, 52.4971582700115), (263213, 13.435794860987858, 52.497214786234395), (255516, 13.435730306943382, 52.497198261281476), (261697, 13.435605683756854, 52.49723819437709), (255515, 13.43557076342587, 52.49739207406852), (241447, 13.435575980151054, 52.497449583346125), (249611, 13.435636272905787, 52.49752183257677), (233115, 13.435719142233776, 52.49752880488793), (231856, 13.435844777882858, 52.49766988140281), (241591, 13.435874829970935, 52.49773785014097), (241590, 13.435772872456734, 52.49779262431912), (233113, 13.435627366387344, 52.497913319558), (249610, 13.43553844043632, 52.49794384882947), (249609, 13.43544945865991, 52.49797461915589), (236857, 13.435355541047466, 52.49800274819902), (223062, 13.435270264509152, 52.49803114250551), (255511, 13.43517600822928, 52.498059135658394), (249542, 13.435087342655704, 52.49808841378427), (249790, 13.434994668631825, 52.49811789236689), (236856, 13.434904807263221, 52.49814769040578), (249789, 13.434814376542256, 52.498176426192956), (223061, 13.434723208243948, 52.49820526903668), (249541, 13.434625574761151, 52.49823466912775), (241405, 13.43452376405556, 52.49826852198253), (261696, 13.434444087071556, 52.498293364596975), (231855, 13.434301880745778, 52.49833667086982), (249788, 13.434217214410314, 52.498367340943076), (261503, 13.434130954730778, 52.49839467216562), (231854, 13.434037756724724, 52.49842609053267), (231670, 13.433946110964948, 52.498456234661376), (236855, 13.433855331105383, 52.49848344201325), (231669, 13.433732319403337, 52.49859895447168), (249540, 13.433507598531685, 52.49859711295445), (255509, 13.433151647399661, 52.49856537307574), (236634, 13.433058179962254, 52.49854061904149), (255508, 13.432973103072676, 52.498572109970056), (236633, 13.432914772401466, 52.498545270453356), (255507, 13.432883694116263, 52.49860622998423), (249346, 13.432885177372496, 52.49866531012307), (231667, 13.4328628869037, 52.4987546818247), (249344, 13.432786549165314, 52.49876267065949), (241404, 13.4327000041491, 52.498794124862656), (249345, 13.432611643729288, 52.4987599390761), (261500, 13.432522448627681, 52.4987882354444), (255506, 13.432439815529252, 52.49876086151518), (223060, 13.43235248323387, 52.49879075137835), (231668, 13.432267308864345, 52.49882184850132), (261688, 13.43226293626936, 52.498948560948115), (255505, 13.432177648378987, 52.498977538209054), (261499, 13.432081374932999, 52.49894249281253), (261498, 13.43198801074938, 52.49898256396903), (255503, 13.431650864738817, 52.49902847738236), (261686, 13.431619925685583, 52.49906543229465), (242352, 13.431527946915722, 52.49977518301259), (256896, 13.431412525876096, 52.49978955076079), (242360, 13.431287877965037, 52.49984906065884), (234238, 13.431312498002287, 52.50001847122721), (253204, 13.431258291365411, 52.50013216913631), (242358, 13.43121467616829, 52.500228145819804), (241232, 13.430986930421392, 52.50028855402341), (234237, 13.430886547282327, 52.500288558772326), (256900, 13.430863656390239, 52.5003265966583), (240158, 13.430763505965736, 52.50039030786522), (249961, 13.430560925492497, 52.50041757891151), (262087, 13.430348522080685, 52.50039010217781), (256097, 13.430279743605542, 52.50032500874308), (242353, 13.430160589393127, 52.50029755506549), (256897, 13.430097681945561, 52.50038034261348), (232854, 13.42967650521567, 52.500106240333004), (232669, 13.429582126118667, 52.49996863091121), (233722, 13.429321803020535, 52.4999364055103), (260274, 13.429274342668322, 52.49992791092729), (223968, 13.429226883807338, 52.49991941634493), (232851, 13.428889947260124, 52.50027554972082), (260271, 13.428762272695472, 52.500247226231096), (232852, 13.428711900143803, 52.50032848831008), (260121, 13.428309027002971, 52.500132463452005), (253116, 13.428197698808672, 52.50007788141085), (225618, 13.427708994278943, 52.500498556803414), (252422, 13.427640725844695, 52.50051200285492), (233704, 13.427519649567381, 52.50038255418705), (256554, 13.426998160104462, 52.5002078844229), (242098, 13.426937574967546, 52.500234867573916), (260089, 13.426855966642172, 52.500257627670265), (233753, 13.426704428235261, 52.500293290543205), (259934, 13.426605912946615, 52.50019324771826), (259935, 13.426560114584465, 52.50016474564632), (244063, 13.425695317153751, 52.49941734105337), (260199, 13.425640131068809, 52.49934216512753), (263001, 13.425596037305509, 52.49934046345656), (223679, 13.425613785009455, 52.498213597035104), (261921, 13.425568071315727, 52.498163832697685), (262405, 13.425517060594414, 52.498100282865764), (261922, 13.425472853460125, 52.49804303549027), (262590, 13.425578294098843, 52.497943310766566), (252611, 13.425594807631235, 52.497899960693985), (259882, 13.425633995007216, 52.49782453101017)]\n"
     ]
    },
    {
     "data": {
      "image/png": "[encoded data removed]",
      "text/plain": [
       "<Figure size 432x288 with 1 Axes>"
      ]
     },
     "metadata": {},
     "output_type": "display_data"
    }
   ],
   "source": [
    "def getPath(start_id,end_id):\n",
    "    p= nx.algorithms.shortest_paths.weighted.dijkstra_path(G,start_id,end_id)\n",
    "    return [(i,x[trees[trees.id==i].index][0],y[trees[trees.id==i].index][0]) for i in p]  \n",
    "\n",
    "path=getPath(231701,259882)\n",
    "print(path)\n",
    "scatter(x,y)\n",
    "for [i1,x1,y1],[i2,x2,y2] in zip(path[:-1],path[1:]):\n",
    "    plot([x1,x2],[y1,y2])\n",
    "    "
   ]
  },
  {
   "cell_type": "code",
   "execution_count": null,
   "metadata": {},
   "outputs": [],
   "source": []
  },
  {
   "cell_type": "code",
   "execution_count": null,
   "metadata": {},
   "outputs": [],
   "source": []
  }
 ],
 "metadata": {
  "kernelspec": {
   "display_name": "tensorflow",
   "language": "python",
   "name": "tensorflow"
  },
  "language_info": {
   "codemirror_mode": {
    "name": "ipython",
    "version": 3
   },
   "file_extension": ".py",
   "mimetype": "text/x-python",
   "name": "python",
   "nbconvert_exporter": "python",
   "pygments_lexer": "ipython3",
   "version": "3.5.4"
  }
 },
 "nbformat": 4,
 "nbformat_minor": 2
}
